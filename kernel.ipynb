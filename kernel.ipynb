{
  "cells": [
    {
      "metadata": {
        "_uuid": "8f2839f25d086af736a60e9eeb907d3b93b6e0e5",
        "_cell_guid": "b1076dfc-b9ad-4769-8c92-a6c4dae69d19",
        "trusted": true
      },
      "cell_type": "code",
      "source": "# This Python 3 environment comes with many helpful analytics libraries installed\n# It is defined by the kaggle/python docker image: https://github.com/kaggle/docker-python\n# For example, here's several helpful packages to load in \n\nimport numpy as np # linear algebra\nimport pandas as pd # data processing, CSV file I/O (e.g. pd.read_csv)\n\n# Input data files are available in the \"../input/\" directory.\n# For example, running this (by clicking run or pressing Shift+Enter) will list the files in the input directory\n\nimport os\nprint(os.listdir(\"../input\"))\n\n# Any results you write to the current directory are saved as output.",
      "execution_count": 2,
      "outputs": [
        {
          "output_type": "stream",
          "text": "['Y_train.txt', 'X_test.txt', 'X_train.txt']\n",
          "name": "stdout"
        }
      ]
    },
    {
      "metadata": {
        "_cell_guid": "79c7e3d0-c299-4dcb-8224-4455121ee9b0",
        "_uuid": "d629ff2d2480ee46fbb7e2d37f6b5fab8052498a",
        "trusted": true
      },
      "cell_type": "code",
      "source": "X = np.genfromtxt('../input/X_train.txt', delimiter = None)\nY = np.genfromtxt('../input/Y_train.txt', delimiter = None)\nnp.random.shuffle(X)\nnp.random.shuffle(Y)",
      "execution_count": 3,
      "outputs": []
    },
    {
      "metadata": {
        "trusted": true,
        "_uuid": "1bff40facfe7d1fd6cbe1ed6d5bcb70a6b1eaf2e"
      },
      "cell_type": "code",
      "source": "import numpy as np\nimport tensorflow as tf\nfrom sklearn import preprocessing\nfrom keras.models import Sequential\nfrom keras.layers import Dense\nfrom keras import backend as K",
      "execution_count": 10,
      "outputs": []
    },
    {
      "metadata": {
        "trusted": true,
        "_uuid": "17c76458f6a4572ce582f49d4cab9c74f1f5a989"
      },
      "cell_type": "code",
      "source": "X_tr = X[10000:]\nY_tr = Y[10000:]\nX_va = X[:10000]\nY_va = Y[:10000]",
      "execution_count": 5,
      "outputs": []
    },
    {
      "metadata": {
        "trusted": true,
        "_uuid": "90f190e5bf4e6132454729cabe44e3b04e651efc"
      },
      "cell_type": "code",
      "source": "X_tr.shape",
      "execution_count": 6,
      "outputs": [
        {
          "output_type": "execute_result",
          "execution_count": 6,
          "data": {
            "text/plain": "(90000, 14)"
          },
          "metadata": {}
        }
      ]
    },
    {
      "metadata": {
        "trusted": true,
        "_uuid": "2547c490e4ffae3adbe43377ee5ba996ed7d6100"
      },
      "cell_type": "code",
      "source": "df = pd.DataFrame()\nfor i in range(14):\n    df[\"Feature%s\" % i] = preprocessing.scale(X_tr[:, i])",
      "execution_count": 11,
      "outputs": []
    },
    {
      "metadata": {
        "trusted": true,
        "_uuid": "c392cc1e7638f3c7b5eaa86f57edb680049c0d03"
      },
      "cell_type": "code",
      "source": "#-----------------------------------------------------------------------------------------------------------------------------------------------------\n# AUC for a binary classifier\ndef auc(y_true, y_pred):   \n    ptas = tf.stack([binary_PTA(y_true,y_pred,k) for k in np.linspace(0, 1, 1000)],axis=0)\n    pfas = tf.stack([binary_PFA(y_true,y_pred,k) for k in np.linspace(0, 1, 1000)],axis=0)\n    pfas = tf.concat([tf.ones((1,)) ,pfas],axis=0)\n    binSizes = -(pfas[1:]-pfas[:-1])\n    s = ptas*binSizes\n    return K.sum(s, axis=0)\n\n#-----------------------------------------------------------------------------------------------------------------------------------------------------\n# PFA, prob false alert for binary classifier\ndef binary_PFA(y_true, y_pred, threshold=K.variable(value=0.5)):\n    y_pred = K.cast(y_pred >= threshold, 'float32')\n    # N = total number of negative labels\n    N = K.sum(1 - y_true)\n    # FP = total number of false alerts, alerts from the negative class labels\n    FP = K.sum(y_pred - y_pred * y_true)    \n    return FP/N\n#-----------------------------------------------------------------------------------------------------------------------------------------------------\n# P_TA prob true alerts for binary classifier\ndef binary_PTA(y_true, y_pred, threshold=K.variable(value=0.5)):\n    y_pred = K.cast(y_pred >= threshold, 'float32')\n    # P = total number of positive labels\n    P = K.sum(y_true)\n    # TP = total number of correct alerts, alerts from the positive class labels\n    TP = K.sum(y_pred * y_true)    \n    return TP/P",
      "execution_count": 12,
      "outputs": []
    },
    {
      "metadata": {
        "trusted": true,
        "_uuid": "4bda31f956b4b4709e993f14aefbed5f1d3650ab"
      },
      "cell_type": "code",
      "source": "model = Sequential()\nmodel.add(Dense(20, kernel_initializer='normal', activation='relu'))\nmodel.add(Dense(5, kernel_initializer='normal', activation='relu'))\nmodel.add(Dense(1, kernel_initializer='normal'))\nmodel.compile(loss = 'mean_squared_error', optimizer='adam', metrics=['accuracy'])",
      "execution_count": 13,
      "outputs": []
    },
    {
      "metadata": {
        "trusted": true,
        "_uuid": "7fb3082d9f1726a573ce2418b4e616bdd7c9acd0",
        "_kg_hide-output": false
      },
      "cell_type": "code",
      "source": "model.fit(df.values, Y_tr, epochs = 2, batch_size = 20)",
      "execution_count": 14,
      "outputs": [
        {
          "output_type": "stream",
          "text": "Epoch 1/2\n90000/90000 [==============================] - 6s 62us/step - loss: 0.2270 - acc: 0.6579\nEpoch 2/2\n90000/90000 [==============================] - 5s 56us/step - loss: 0.2252 - acc: 0.6583\n",
          "name": "stdout"
        },
        {
          "output_type": "execute_result",
          "execution_count": 14,
          "data": {
            "text/plain": "<keras.callbacks.History at 0x7f1c82e475f8>"
          },
          "metadata": {}
        }
      ]
    },
    {
      "metadata": {
        "trusted": true,
        "_uuid": "71fe018c10431d7be2460e8b91e876ca5f5a24fc"
      },
      "cell_type": "code",
      "source": "from sklearn import svm, metrics",
      "execution_count": 18,
      "outputs": []
    },
    {
      "metadata": {
        "trusted": true,
        "_uuid": "485e6f53a8ea45a94439807f154f32dfa699681d"
      },
      "cell_type": "code",
      "source": "clf = svm.SVC(kernel='linear')\nclf.fit(df.values, Y_tr)",
      "execution_count": 16,
      "outputs": [
        {
          "output_type": "execute_result",
          "execution_count": 16,
          "data": {
            "text/plain": "SVC(C=1.0, cache_size=200, class_weight=None, coef0=0.0,\n  decision_function_shape='ovr', degree=3, gamma='auto_deprecated',\n  kernel='linear', max_iter=-1, probability=False, random_state=None,\n  shrinking=True, tol=0.001, verbose=False)"
          },
          "metadata": {}
        }
      ]
    },
    {
      "metadata": {
        "trusted": true,
        "_uuid": "2552c597386158c6e1db886afd09aa09e3a6e898"
      },
      "cell_type": "code",
      "source": "y_pred = clf.predict(X_va)",
      "execution_count": 17,
      "outputs": []
    },
    {
      "metadata": {
        "trusted": true,
        "_uuid": "9a5bdb950b8a2a8bb596bc877939aae81de052fd"
      },
      "cell_type": "code",
      "source": "metrics.accuracy_score(Y_va, y_pred)",
      "execution_count": 19,
      "outputs": [
        {
          "output_type": "execute_result",
          "execution_count": 19,
          "data": {
            "text/plain": "0.663"
          },
          "metadata": {}
        }
      ]
    },
    {
      "metadata": {
        "trusted": true,
        "_uuid": "3801386c60a1afcb97bccd50840b83528d928649"
      },
      "cell_type": "code",
      "source": "",
      "execution_count": null,
      "outputs": []
    }
  ],
  "metadata": {
    "kernelspec": {
      "display_name": "Python 3",
      "language": "python",
      "name": "python3"
    },
    "language_info": {
      "name": "python",
      "version": "3.6.6",
      "mimetype": "text/x-python",
      "codemirror_mode": {
        "name": "ipython",
        "version": 3
      },
      "pygments_lexer": "ipython3",
      "nbconvert_exporter": "python",
      "file_extension": ".py"
    }
  },
  "nbformat": 4,
  "nbformat_minor": 1
}